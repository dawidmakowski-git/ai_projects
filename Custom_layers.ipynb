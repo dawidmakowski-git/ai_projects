{
  "nbformat": 4,
  "nbformat_minor": 0,
  "metadata": {
    "colab": {
      "name": "Custom layers.ipynb",
      "provenance": [],
      "collapsed_sections": [],
      "authorship_tag": "ABX9TyMcCHeZFrodQYmIEgjbWCSG",
      "include_colab_link": true
    },
    "kernelspec": {
      "name": "python3",
      "display_name": "Python 3"
    },
    "accelerator": "GPU"
  },
  "cells": [
    {
      "cell_type": "markdown",
      "metadata": {
        "id": "view-in-github",
        "colab_type": "text"
      },
      "source": [
        "<a href=\"https://colab.research.google.com/github/dawidmakowski-git/tensorflow_tutorials/blob/master/Custom_layers.ipynb\" target=\"_parent\"><img src=\"https://colab.research.google.com/assets/colab-badge.svg\" alt=\"Open In Colab\"/></a>"
      ]
    },
    {
      "cell_type": "code",
      "metadata": {
        "id": "pRnjdKHsj2tT",
        "outputId": "95c476d9-0fd3-41c2-c0c5-c08ddbafcfcd",
        "colab": {
          "base_uri": "https://localhost:8080/"
        }
      },
      "source": [
        "import tensorflow as tf\n",
        "\n",
        "print(tf.test.is_gpu_available())"
      ],
      "execution_count": 9,
      "outputs": [
        {
          "output_type": "stream",
          "text": [
            "True\n"
          ],
          "name": "stdout"
        }
      ]
    },
    {
      "cell_type": "markdown",
      "metadata": {
        "id": "i8ydF76ZlZun"
      },
      "source": [
        "# Layers: common sets of useful operations"
      ]
    },
    {
      "cell_type": "code",
      "metadata": {
        "id": "39-PCfOKkB6_"
      },
      "source": [
        "# In the tf.keras.layers package, layers are objects. To construct a layer,\n",
        "# simply construct the object. Most layers take as a first argument the number\n",
        "# of output dimensions / channels.\n",
        "layer = tf.keras.layers.Dense(100)\n",
        "# The number of input dimensions is often unnecessary, as it can be inferred\n",
        "# the first time the layer is used, but it can be provided if you want to\n",
        "# specify it manually, which is useful in some complex models.\n",
        "layer = tf.keras.layers.Dense(10, input_shape=(None, 5))"
      ],
      "execution_count": 13,
      "outputs": []
    },
    {
      "cell_type": "code",
      "metadata": {
        "id": "Y2E2zqVul3Gn",
        "outputId": "d21d6ed4-e581-4ad7-d441-0a412946f5e0",
        "colab": {
          "base_uri": "https://localhost:8080/"
        }
      },
      "source": [
        "# To use a layer, simply call it.\n",
        "layer(tf.zeros([10, 5]))"
      ],
      "execution_count": 14,
      "outputs": [
        {
          "output_type": "execute_result",
          "data": {
            "text/plain": [
              "<tf.Tensor: shape=(10, 10), dtype=float32, numpy=\n",
              "array([[0., 0., 0., 0., 0., 0., 0., 0., 0., 0.],\n",
              "       [0., 0., 0., 0., 0., 0., 0., 0., 0., 0.],\n",
              "       [0., 0., 0., 0., 0., 0., 0., 0., 0., 0.],\n",
              "       [0., 0., 0., 0., 0., 0., 0., 0., 0., 0.],\n",
              "       [0., 0., 0., 0., 0., 0., 0., 0., 0., 0.],\n",
              "       [0., 0., 0., 0., 0., 0., 0., 0., 0., 0.],\n",
              "       [0., 0., 0., 0., 0., 0., 0., 0., 0., 0.],\n",
              "       [0., 0., 0., 0., 0., 0., 0., 0., 0., 0.],\n",
              "       [0., 0., 0., 0., 0., 0., 0., 0., 0., 0.],\n",
              "       [0., 0., 0., 0., 0., 0., 0., 0., 0., 0.]], dtype=float32)>"
            ]
          },
          "metadata": {
            "tags": []
          },
          "execution_count": 14
        }
      ]
    },
    {
      "cell_type": "code",
      "metadata": {
        "id": "SjwFRZ8wl6oV",
        "outputId": "90f5afa1-a58b-4b72-a8c4-85bffe70e60d",
        "colab": {
          "base_uri": "https://localhost:8080/"
        }
      },
      "source": [
        "# Layers have many useful methods. For example, you can inspect all variables\n",
        "# in a layer using `layer.variables` and trainable variables using\n",
        "# `layer.trainable_variables`. In this case a fully-connected layer\n",
        "# will have variables for weights and biases.\n",
        "layer.variables"
      ],
      "execution_count": 15,
      "outputs": [
        {
          "output_type": "execute_result",
          "data": {
            "text/plain": [
              "[<tf.Variable 'dense_5/kernel:0' shape=(5, 10) dtype=float32, numpy=\n",
              " array([[ 0.58827597, -0.43166047, -0.41523564, -0.15648386,  0.6056027 ,\n",
              "         -0.04036039,  0.08446485,  0.25619543,  0.23893428, -0.5861916 ],\n",
              "        [-0.22778162, -0.50348544,  0.32469803,  0.4823119 ,  0.6098409 ,\n",
              "          0.58519024, -0.43309373,  0.10918039, -0.27657792, -0.21299389],\n",
              "        [-0.5963945 ,  0.5251481 , -0.24190244,  0.41253167,  0.4915716 ,\n",
              "         -0.18617153,  0.15095228,  0.21551329, -0.17238441,  0.4813853 ],\n",
              "        [-0.56056774, -0.52324605, -0.01322705, -0.48314562, -0.13474262,\n",
              "          0.48939663,  0.5478981 , -0.03434843,  0.4883421 , -0.27410737],\n",
              "        [-0.5717095 , -0.39423415, -0.22948194, -0.0204401 , -0.12578994,\n",
              "          0.2639742 , -0.24774477,  0.6127655 ,  0.2934696 ,  0.42205554]],\n",
              "       dtype=float32)>,\n",
              " <tf.Variable 'dense_5/bias:0' shape=(10,) dtype=float32, numpy=array([0., 0., 0., 0., 0., 0., 0., 0., 0., 0.], dtype=float32)>]"
            ]
          },
          "metadata": {
            "tags": []
          },
          "execution_count": 15
        }
      ]
    },
    {
      "cell_type": "code",
      "metadata": {
        "id": "wy-XzQFqnz4m",
        "outputId": "f7da901d-0baa-48a6-eba8-2742434a7779",
        "colab": {
          "base_uri": "https://localhost:8080/"
        }
      },
      "source": [
        "# The variables are also accessible through nice accessors\n",
        "layer.kernel, layer.bias"
      ],
      "execution_count": 18,
      "outputs": [
        {
          "output_type": "execute_result",
          "data": {
            "text/plain": [
              "(<tf.Variable 'dense_5/kernel:0' shape=(5, 10) dtype=float32, numpy=\n",
              " array([[ 0.58827597, -0.43166047, -0.41523564, -0.15648386,  0.6056027 ,\n",
              "         -0.04036039,  0.08446485,  0.25619543,  0.23893428, -0.5861916 ],\n",
              "        [-0.22778162, -0.50348544,  0.32469803,  0.4823119 ,  0.6098409 ,\n",
              "          0.58519024, -0.43309373,  0.10918039, -0.27657792, -0.21299389],\n",
              "        [-0.5963945 ,  0.5251481 , -0.24190244,  0.41253167,  0.4915716 ,\n",
              "         -0.18617153,  0.15095228,  0.21551329, -0.17238441,  0.4813853 ],\n",
              "        [-0.56056774, -0.52324605, -0.01322705, -0.48314562, -0.13474262,\n",
              "          0.48939663,  0.5478981 , -0.03434843,  0.4883421 , -0.27410737],\n",
              "        [-0.5717095 , -0.39423415, -0.22948194, -0.0204401 , -0.12578994,\n",
              "          0.2639742 , -0.24774477,  0.6127655 ,  0.2934696 ,  0.42205554]],\n",
              "       dtype=float32)>,\n",
              " <tf.Variable 'dense_5/bias:0' shape=(10,) dtype=float32, numpy=array([0., 0., 0., 0., 0., 0., 0., 0., 0., 0.], dtype=float32)>)"
            ]
          },
          "metadata": {
            "tags": []
          },
          "execution_count": 18
        }
      ]
    },
    {
      "cell_type": "markdown",
      "metadata": {
        "id": "NSgBtzlsobo2"
      },
      "source": [
        "# Implementing custom layers"
      ]
    },
    {
      "cell_type": "code",
      "metadata": {
        "id": "Xea_AoSkoLfV",
        "outputId": "8dcd889c-5e8b-42ac-df1c-238f96e679ab",
        "colab": {
          "base_uri": "https://localhost:8080/"
        }
      },
      "source": [
        "class MyDenseLayer(tf.keras.layers.Layer):\n",
        "  def __init__(self, num_outputs):\n",
        "    super(MyDenseLayer, self).__init__()\n",
        "    self.num_outputs = num_outputs\n",
        "\n",
        "  def build(self, input_shape):\n",
        "    self.kernel = self.add_weight(\"kernel\",\n",
        "                                  shape=[int(input_shape[-1]),\n",
        "                                         self.num_outputs])\n",
        "\n",
        "  def call(self, input):\n",
        "    return tf.matmul(input, self.kernel)\n",
        "\n",
        "layer = MyDenseLayer(10)\n",
        "\n",
        "_ = layer(tf.zeros([10, 5])) # Calling the layer `.builds` it.\n",
        "\n",
        "print([var.name for var in layer.trainable_variables])"
      ],
      "execution_count": 19,
      "outputs": [
        {
          "output_type": "stream",
          "text": [
            "['my_dense_layer/kernel:0']\n"
          ],
          "name": "stdout"
        }
      ]
    },
    {
      "cell_type": "markdown",
      "metadata": {
        "id": "5asvPgzlruoW"
      },
      "source": [
        "## **Models: Composing layers**"
      ]
    },
    {
      "cell_type": "code",
      "metadata": {
        "id": "_D3Jb4TPrV_n",
        "outputId": "d1ab6006-2193-4a9c-d079-0c1dc44e1e9b",
        "colab": {
          "base_uri": "https://localhost:8080/"
        }
      },
      "source": [
        "class ResnetIdentityBlock(tf.keras.Model):\n",
        "  def __init__(self, kernel_size, filters):\n",
        "    super(ResnetIdentityBlock, self).__init__(name='')\n",
        "    filters1, filters2, filters3 = filters\n",
        "\n",
        "    self.conv2a = tf.keras.layers.Conv2D(filters1, (1, 1))\n",
        "    self.bn2a = tf.keras.layers.BatchNormalization()\n",
        "\n",
        "    self.conv2b = tf.keras.layers.Conv2D(filters2, kernel_size, padding='same')\n",
        "    self.bn2b = tf.keras.layers.BatchNormalization()\n",
        "\n",
        "    self.conv2c = tf.keras.layers.Conv2D(filters3, (1, 1))\n",
        "    self.bn2c = tf.keras.layers.BatchNormalization()\n",
        "\n",
        "  def call(self, input_tensor, training=False):\n",
        "    x = self.conv2a(input_tensor)\n",
        "    x = self.bn2a(x, training=training)\n",
        "    x = tf.nn.relu(x)\n",
        "\n",
        "    x = self.conv2b(x)\n",
        "    x = self.bn2b(x, training=training)\n",
        "    x = tf.nn.relu(x)\n",
        "\n",
        "    x = self.conv2c(x)\n",
        "    x = self.bn2c(x, training=training)\n",
        "\n",
        "    x += input_tensor\n",
        "    return tf.nn.relu(x)\n",
        "\n",
        "\n",
        "block = ResnetIdentityBlock(1, [1, 2, 3])\n",
        "\n",
        "_ = block(tf.zeros([1, 2, 3, 3])) \n",
        "\n",
        "block.layers"
      ],
      "execution_count": 21,
      "outputs": [
        {
          "output_type": "execute_result",
          "data": {
            "text/plain": [
              "[<tensorflow.python.keras.layers.convolutional.Conv2D at 0x7f3d800ab588>,\n",
              " <tensorflow.python.keras.layers.normalization_v2.BatchNormalization at 0x7f3d800ab8d0>,\n",
              " <tensorflow.python.keras.layers.convolutional.Conv2D at 0x7f3d800abb00>,\n",
              " <tensorflow.python.keras.layers.normalization_v2.BatchNormalization at 0x7f3d800abda0>,\n",
              " <tensorflow.python.keras.layers.convolutional.Conv2D at 0x7f3d800abfd0>,\n",
              " <tensorflow.python.keras.layers.normalization_v2.BatchNormalization at 0x7f3d800a32b0>]"
            ]
          },
          "metadata": {
            "tags": []
          },
          "execution_count": 21
        }
      ]
    },
    {
      "cell_type": "code",
      "metadata": {
        "id": "ASHbVlaAr6Km",
        "outputId": "78ec5d69-f566-468c-93df-bfa40addd8b8",
        "colab": {
          "base_uri": "https://localhost:8080/"
        }
      },
      "source": [
        "len(block.variables)"
      ],
      "execution_count": 22,
      "outputs": [
        {
          "output_type": "execute_result",
          "data": {
            "text/plain": [
              "18"
            ]
          },
          "metadata": {
            "tags": []
          },
          "execution_count": 22
        }
      ]
    },
    {
      "cell_type": "code",
      "metadata": {
        "id": "bgRPnND7vSqI",
        "outputId": "c58eff29-2f84-41f1-bfe8-e662347584fd",
        "colab": {
          "base_uri": "https://localhost:8080/"
        }
      },
      "source": [
        "block.summary()"
      ],
      "execution_count": 23,
      "outputs": [
        {
          "output_type": "stream",
          "text": [
            "Model: \"resnet_identity_block_1\"\n",
            "_________________________________________________________________\n",
            "Layer (type)                 Output Shape              Param #   \n",
            "=================================================================\n",
            "conv2d_3 (Conv2D)            multiple                  4         \n",
            "_________________________________________________________________\n",
            "batch_normalization_3 (Batch multiple                  4         \n",
            "_________________________________________________________________\n",
            "conv2d_4 (Conv2D)            multiple                  4         \n",
            "_________________________________________________________________\n",
            "batch_normalization_4 (Batch multiple                  8         \n",
            "_________________________________________________________________\n",
            "conv2d_5 (Conv2D)            multiple                  9         \n",
            "_________________________________________________________________\n",
            "batch_normalization_5 (Batch multiple                  12        \n",
            "=================================================================\n",
            "Total params: 41\n",
            "Trainable params: 29\n",
            "Non-trainable params: 12\n",
            "_________________________________________________________________\n"
          ],
          "name": "stdout"
        }
      ]
    },
    {
      "cell_type": "code",
      "metadata": {
        "id": "1BsqetjUvU_m",
        "outputId": "c0f0fd53-75f8-4a3c-edf2-56587a376b83",
        "colab": {
          "base_uri": "https://localhost:8080/"
        }
      },
      "source": [
        "my_seq = tf.keras.Sequential([tf.keras.layers.Conv2D(1, (1, 1),\n",
        "                                                    input_shape=(\n",
        "                                                        None, None, 3)),\n",
        "                             tf.keras.layers.BatchNormalization(),\n",
        "                             tf.keras.layers.Conv2D(2, 1,\n",
        "                                                    padding='same'),\n",
        "                             tf.keras.layers.BatchNormalization(),\n",
        "                             tf.keras.layers.Conv2D(3, (1, 1)),\n",
        "                             tf.keras.layers.BatchNormalization()])\n",
        "my_seq(tf.zeros([1, 2, 3, 3]))"
      ],
      "execution_count": 24,
      "outputs": [
        {
          "output_type": "execute_result",
          "data": {
            "text/plain": [
              "<tf.Tensor: shape=(1, 2, 3, 3), dtype=float32, numpy=\n",
              "array([[[[0., 0., 0.],\n",
              "         [0., 0., 0.],\n",
              "         [0., 0., 0.]],\n",
              "\n",
              "        [[0., 0., 0.],\n",
              "         [0., 0., 0.],\n",
              "         [0., 0., 0.]]]], dtype=float32)>"
            ]
          },
          "metadata": {
            "tags": []
          },
          "execution_count": 24
        }
      ]
    },
    {
      "cell_type": "code",
      "metadata": {
        "id": "45egYS_1veA2",
        "outputId": "0293b7d0-8dcd-482c-9088-af180af80e05",
        "colab": {
          "base_uri": "https://localhost:8080/"
        }
      },
      "source": [
        "my_seq.summary()"
      ],
      "execution_count": 25,
      "outputs": [
        {
          "output_type": "stream",
          "text": [
            "Model: \"sequential\"\n",
            "_________________________________________________________________\n",
            "Layer (type)                 Output Shape              Param #   \n",
            "=================================================================\n",
            "conv2d_6 (Conv2D)            (None, None, None, 1)     4         \n",
            "_________________________________________________________________\n",
            "batch_normalization_6 (Batch (None, None, None, 1)     4         \n",
            "_________________________________________________________________\n",
            "conv2d_7 (Conv2D)            (None, None, None, 2)     4         \n",
            "_________________________________________________________________\n",
            "batch_normalization_7 (Batch (None, None, None, 2)     8         \n",
            "_________________________________________________________________\n",
            "conv2d_8 (Conv2D)            (None, None, None, 3)     9         \n",
            "_________________________________________________________________\n",
            "batch_normalization_8 (Batch (None, None, None, 3)     12        \n",
            "=================================================================\n",
            "Total params: 41\n",
            "Trainable params: 29\n",
            "Non-trainable params: 12\n",
            "_________________________________________________________________\n"
          ],
          "name": "stdout"
        }
      ]
    },
    {
      "cell_type": "code",
      "metadata": {
        "id": "2Qo8gSUXvgzn"
      },
      "source": [
        ""
      ],
      "execution_count": null,
      "outputs": []
    }
  ]
}